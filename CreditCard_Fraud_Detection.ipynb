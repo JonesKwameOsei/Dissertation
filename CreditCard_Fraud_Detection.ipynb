{
  "cells": [
    {
      "cell_type": "markdown",
      "metadata": {
        "id": "view-in-github",
        "colab_type": "text"
      },
      "source": [
        "<a href=\"https://colab.research.google.com/github/JonesKwameOsei/Dissertation/blob/main/CreditCard_Fraud_Detection.ipynb\" target=\"_parent\"><img src=\"https://colab.research.google.com/assets/colab-badge.svg\" alt=\"Open In Colab\"/></a>"
      ]
    },
    {
      "cell_type": "markdown",
      "metadata": {
        "id": "oMKfdQH6FRK9"
      },
      "source": [
        "# **Credit Card Fraud Detection**\n",
        "![CreditCradFraudCover1.png](data:image/png;base64,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)\n",
        "\n",
        "[Image download here](https://www.google.com/url?sa=i&url=https%3A%2F%2Fpngtree.com%2Ffree-png-vectors%2Fcredit-card-fraud&psig=AOvVaw25A2tFBaC5rqJH97oX3Db0&ust=1681215910933000&source=images&cd=vfe&ved=0CBAQjRxqFwoTCPCDxsqon_4CFQAAAAAdAAAAABAE)\n",
        "\n",
        "\n",
        "In this Project, We are going to build **a model** to detect credit card fraud as well as **evaluate** the model with **the highest efficacy**. "
      ]
    },
    {
      "cell_type": "code",
      "execution_count": 52,
      "metadata": {
        "id": "rCQ3Ids0C0KD",
        "colab": {
          "base_uri": "https://localhost:8080/",
          "height": 17
        },
        "outputId": "032c6dff-7ef7-4832-bd04-1d64e33a9c4e"
      },
      "outputs": [
        {
          "output_type": "display_data",
          "data": {
            "text/html": [
              "        <script type=\"text/javascript\">\n",
              "        window.PlotlyConfig = {MathJaxConfig: 'local'};\n",
              "        if (window.MathJax && window.MathJax.Hub && window.MathJax.Hub.Config) {window.MathJax.Hub.Config({SVG: {font: \"STIX-Web\"}});}\n",
              "        if (typeof require !== 'undefined') {\n",
              "        require.undef(\"plotly\");\n",
              "        requirejs.config({\n",
              "            paths: {\n",
              "                'plotly': ['https://cdn.plot.ly/plotly-2.18.2.min']\n",
              "            }\n",
              "        });\n",
              "        require(['plotly'], function(Plotly) {\n",
              "            window._Plotly = Plotly;\n",
              "        });\n",
              "        }\n",
              "        </script>\n",
              "        "
            ]
          },
          "metadata": {}
        }
      ],
      "source": [
        "# Libraries for Data Wrangling and Manipulations  \n",
        "import pandas as pd\n",
        "from pandas.plotting import scatter_matrix\n",
        "import numpy as np\n",
        "\n",
        "# Libraries for plots and visualisations\n",
        "import matplotlib\n",
        "from matplotlib import style\n",
        "import matplotlib.pyplot as plt\n",
        "%matplotlib inline\n",
        "import seaborn as sns\n",
        "import plotly.offline as py\n",
        "import plotly.express as px\n",
        "import plotly.graph_objs as go\n",
        "import missingno as msno\n",
        "import warnings\n",
        "\n",
        "# Libraries for Machine Learning Models\n",
        "from sklearn import metrics\n",
        "from sklearn.model_selection import train_test_split\n",
        "from sklearn.model_selection import cross_val_predict\n",
        "from sklearn.metrics import classification_report, accuracy_score\n",
        "from sklearn.metrics import confusion_matrix\n",
        "from sklearn.linear_model import LogisticRegression\n",
        "from sklearn import preprocessing, svm\n",
        "from sklearn.preprocessing import LabelEncoder\n",
        "le = LabelEncoder()\n",
        "\n",
        "sns.set()\n",
        "py.offline.init_notebook_mode(connected=True)\n",
        "warnings.filterwarnings('ignore')"
      ]
    },
    {
      "cell_type": "markdown",
      "metadata": {
        "id": "JZdWp3veKgQn"
      },
      "source": [
        "## Load our data set\n",
        "The dataset was downloaded from Kaggle public datasets and link can be found [here](https://www.kaggle.com/datasets/mlg-ulb/creditcardfraud).\n",
        "\n",
        "The dataset was uploaded from my goodgle drive using google colap's import package, google.colab (import drive)."
      ]
    },
    {
      "cell_type": "code",
      "source": [
        "from google.colab import drive\n",
        "drive.mount('/content/drive')"
      ],
      "metadata": {
        "colab": {
          "base_uri": "https://localhost:8080/"
        },
        "id": "pecKUVnBiQat",
        "outputId": "84eab580-e017-4f06-f669-b1eaa4f31d93"
      },
      "execution_count": null,
      "outputs": [
        {
          "output_type": "stream",
          "name": "stdout",
          "text": [
            "Mounted at /content/drive\n"
          ]
        }
      ]
    },
    {
      "cell_type": "code",
      "source": [
        "crecard_df = pd.read_csv('/content/drive/MyDrive/Datasets/creditcard.csv')"
      ],
      "metadata": {
        "id": "Mn9uHvqTi9Zy"
      },
      "execution_count": null,
      "outputs": []
    },
    {
      "cell_type": "markdown",
      "source": [
        "## Basic Exploratory Data Analysis (BEDA)\n",
        "In the analysis, we will explore our dataset to know more about it. This will help us know more about our data and what we will be working with.  This is because the analysis allows us to obtain a snipet of the characteristics of the data we are working with, including the number of observations, the type of variables and our data was distributed. Understanding these fundamentals about our data enables us as data scientists to make arrive at data driven recommendations to support data driven decision-making. "
      ],
      "metadata": {
        "id": "SkfmWGxqjjh6"
      }
    },
    {
      "cell_type": "markdown",
      "source": [
        "### View the some records of our dataframe"
      ],
      "metadata": {
        "id": "tY_CO7B_qM1W"
      }
    },
    {
      "cell_type": "code",
      "source": [
        "print('Displaying the first ten records from the dataframe:')\n",
        "crecard_df.head(10)\n"
      ],
      "metadata": {
        "colab": {
          "base_uri": "https://localhost:8080/",
          "height": 475
        },
        "id": "6HMpmOfTuecm",
        "outputId": "2dc8c34a-b273-4e63-ed7c-23301448549a"
      },
      "execution_count": 54,
      "outputs": [
        {
          "output_type": "stream",
          "name": "stdout",
          "text": [
            "Displaying the first ten records from the dataframe:\n"
          ]
        },
        {
          "output_type": "execute_result",
          "data": {
            "text/plain": [
              "   Time        V1        V2        V3        V4        V5        V6        V7  \\\n",
              "0   0.0 -1.359807 -0.072781  2.536347  1.378155 -0.338321  0.462388  0.239599   \n",
              "1   0.0  1.191857  0.266151  0.166480  0.448154  0.060018 -0.082361 -0.078803   \n",
              "2   1.0 -1.358354 -1.340163  1.773209  0.379780 -0.503198  1.800499  0.791461   \n",
              "3   1.0 -0.966272 -0.185226  1.792993 -0.863291 -0.010309  1.247203  0.237609   \n",
              "4   2.0 -1.158233  0.877737  1.548718  0.403034 -0.407193  0.095921  0.592941   \n",
              "5   2.0 -0.425966  0.960523  1.141109 -0.168252  0.420987 -0.029728  0.476201   \n",
              "6   4.0  1.229658  0.141004  0.045371  1.202613  0.191881  0.272708 -0.005159   \n",
              "7   7.0 -0.644269  1.417964  1.074380 -0.492199  0.948934  0.428118  1.120631   \n",
              "8   7.0 -0.894286  0.286157 -0.113192 -0.271526  2.669599  3.721818  0.370145   \n",
              "9   9.0 -0.338262  1.119593  1.044367 -0.222187  0.499361 -0.246761  0.651583   \n",
              "\n",
              "         V8        V9  ...       V21       V22       V23       V24       V25  \\\n",
              "0  0.098698  0.363787  ... -0.018307  0.277838 -0.110474  0.066928  0.128539   \n",
              "1  0.085102 -0.255425  ... -0.225775 -0.638672  0.101288 -0.339846  0.167170   \n",
              "2  0.247676 -1.514654  ...  0.247998  0.771679  0.909412 -0.689281 -0.327642   \n",
              "3  0.377436 -1.387024  ... -0.108300  0.005274 -0.190321 -1.175575  0.647376   \n",
              "4 -0.270533  0.817739  ... -0.009431  0.798278 -0.137458  0.141267 -0.206010   \n",
              "5  0.260314 -0.568671  ... -0.208254 -0.559825 -0.026398 -0.371427 -0.232794   \n",
              "6  0.081213  0.464960  ... -0.167716 -0.270710 -0.154104 -0.780055  0.750137   \n",
              "7 -3.807864  0.615375  ...  1.943465 -1.015455  0.057504 -0.649709 -0.415267   \n",
              "8  0.851084 -0.392048  ... -0.073425 -0.268092 -0.204233  1.011592  0.373205   \n",
              "9  0.069539 -0.736727  ... -0.246914 -0.633753 -0.120794 -0.385050 -0.069733   \n",
              "\n",
              "        V26       V27       V28  Amount  Class  \n",
              "0 -0.189115  0.133558 -0.021053  149.62      0  \n",
              "1  0.125895 -0.008983  0.014724    2.69      0  \n",
              "2 -0.139097 -0.055353 -0.059752  378.66      0  \n",
              "3 -0.221929  0.062723  0.061458  123.50      0  \n",
              "4  0.502292  0.219422  0.215153   69.99      0  \n",
              "5  0.105915  0.253844  0.081080    3.67      0  \n",
              "6 -0.257237  0.034507  0.005168    4.99      0  \n",
              "7 -0.051634 -1.206921 -1.085339   40.80      0  \n",
              "8 -0.384157  0.011747  0.142404   93.20      0  \n",
              "9  0.094199  0.246219  0.083076    3.68      0  \n",
              "\n",
              "[10 rows x 31 columns]"
            ],
            "text/html": [
              "\n",
              "  <div id=\"df-9cd73fa3-c14b-4f30-be2c-67c913369539\">\n",
              "    <div class=\"colab-df-container\">\n",
              "      <div>\n",
              "<style scoped>\n",
              "    .dataframe tbody tr th:only-of-type {\n",
              "        vertical-align: middle;\n",
              "    }\n",
              "\n",
              "    .dataframe tbody tr th {\n",
              "        vertical-align: top;\n",
              "    }\n",
              "\n",
              "    .dataframe thead th {\n",
              "        text-align: right;\n",
              "    }\n",
              "</style>\n",
              "<table border=\"1\" class=\"dataframe\">\n",
              "  <thead>\n",
              "    <tr style=\"text-align: right;\">\n",
              "      <th></th>\n",
              "      <th>Time</th>\n",
              "      <th>V1</th>\n",
              "      <th>V2</th>\n",
              "      <th>V3</th>\n",
              "      <th>V4</th>\n",
              "      <th>V5</th>\n",
              "      <th>V6</th>\n",
              "      <th>V7</th>\n",
              "      <th>V8</th>\n",
              "      <th>V9</th>\n",
              "      <th>...</th>\n",
              "      <th>V21</th>\n",
              "      <th>V22</th>\n",
              "      <th>V23</th>\n",
              "      <th>V24</th>\n",
              "      <th>V25</th>\n",
              "      <th>V26</th>\n",
              "      <th>V27</th>\n",
              "      <th>V28</th>\n",
              "      <th>Amount</th>\n",
              "      <th>Class</th>\n",
              "    </tr>\n",
              "  </thead>\n",
              "  <tbody>\n",
              "    <tr>\n",
              "      <th>0</th>\n",
              "      <td>0.0</td>\n",
              "      <td>-1.359807</td>\n",
              "      <td>-0.072781</td>\n",
              "      <td>2.536347</td>\n",
              "      <td>1.378155</td>\n",
              "      <td>-0.338321</td>\n",
              "      <td>0.462388</td>\n",
              "      <td>0.239599</td>\n",
              "      <td>0.098698</td>\n",
              "      <td>0.363787</td>\n",
              "      <td>...</td>\n",
              "      <td>-0.018307</td>\n",
              "      <td>0.277838</td>\n",
              "      <td>-0.110474</td>\n",
              "      <td>0.066928</td>\n",
              "      <td>0.128539</td>\n",
              "      <td>-0.189115</td>\n",
              "      <td>0.133558</td>\n",
              "      <td>-0.021053</td>\n",
              "      <td>149.62</td>\n",
              "      <td>0</td>\n",
              "    </tr>\n",
              "    <tr>\n",
              "      <th>1</th>\n",
              "      <td>0.0</td>\n",
              "      <td>1.191857</td>\n",
              "      <td>0.266151</td>\n",
              "      <td>0.166480</td>\n",
              "      <td>0.448154</td>\n",
              "      <td>0.060018</td>\n",
              "      <td>-0.082361</td>\n",
              "      <td>-0.078803</td>\n",
              "      <td>0.085102</td>\n",
              "      <td>-0.255425</td>\n",
              "      <td>...</td>\n",
              "      <td>-0.225775</td>\n",
              "      <td>-0.638672</td>\n",
              "      <td>0.101288</td>\n",
              "      <td>-0.339846</td>\n",
              "      <td>0.167170</td>\n",
              "      <td>0.125895</td>\n",
              "      <td>-0.008983</td>\n",
              "      <td>0.014724</td>\n",
              "      <td>2.69</td>\n",
              "      <td>0</td>\n",
              "    </tr>\n",
              "    <tr>\n",
              "      <th>2</th>\n",
              "      <td>1.0</td>\n",
              "      <td>-1.358354</td>\n",
              "      <td>-1.340163</td>\n",
              "      <td>1.773209</td>\n",
              "      <td>0.379780</td>\n",
              "      <td>-0.503198</td>\n",
              "      <td>1.800499</td>\n",
              "      <td>0.791461</td>\n",
              "      <td>0.247676</td>\n",
              "      <td>-1.514654</td>\n",
              "      <td>...</td>\n",
              "      <td>0.247998</td>\n",
              "      <td>0.771679</td>\n",
              "      <td>0.909412</td>\n",
              "      <td>-0.689281</td>\n",
              "      <td>-0.327642</td>\n",
              "      <td>-0.139097</td>\n",
              "      <td>-0.055353</td>\n",
              "      <td>-0.059752</td>\n",
              "      <td>378.66</td>\n",
              "      <td>0</td>\n",
              "    </tr>\n",
              "    <tr>\n",
              "      <th>3</th>\n",
              "      <td>1.0</td>\n",
              "      <td>-0.966272</td>\n",
              "      <td>-0.185226</td>\n",
              "      <td>1.792993</td>\n",
              "      <td>-0.863291</td>\n",
              "      <td>-0.010309</td>\n",
              "      <td>1.247203</td>\n",
              "      <td>0.237609</td>\n",
              "      <td>0.377436</td>\n",
              "      <td>-1.387024</td>\n",
              "      <td>...</td>\n",
              "      <td>-0.108300</td>\n",
              "      <td>0.005274</td>\n",
              "      <td>-0.190321</td>\n",
              "      <td>-1.175575</td>\n",
              "      <td>0.647376</td>\n",
              "      <td>-0.221929</td>\n",
              "      <td>0.062723</td>\n",
              "      <td>0.061458</td>\n",
              "      <td>123.50</td>\n",
              "      <td>0</td>\n",
              "    </tr>\n",
              "    <tr>\n",
              "      <th>4</th>\n",
              "      <td>2.0</td>\n",
              "      <td>-1.158233</td>\n",
              "      <td>0.877737</td>\n",
              "      <td>1.548718</td>\n",
              "      <td>0.403034</td>\n",
              "      <td>-0.407193</td>\n",
              "      <td>0.095921</td>\n",
              "      <td>0.592941</td>\n",
              "      <td>-0.270533</td>\n",
              "      <td>0.817739</td>\n",
              "      <td>...</td>\n",
              "      <td>-0.009431</td>\n",
              "      <td>0.798278</td>\n",
              "      <td>-0.137458</td>\n",
              "      <td>0.141267</td>\n",
              "      <td>-0.206010</td>\n",
              "      <td>0.502292</td>\n",
              "      <td>0.219422</td>\n",
              "      <td>0.215153</td>\n",
              "      <td>69.99</td>\n",
              "      <td>0</td>\n",
              "    </tr>\n",
              "    <tr>\n",
              "      <th>5</th>\n",
              "      <td>2.0</td>\n",
              "      <td>-0.425966</td>\n",
              "      <td>0.960523</td>\n",
              "      <td>1.141109</td>\n",
              "      <td>-0.168252</td>\n",
              "      <td>0.420987</td>\n",
              "      <td>-0.029728</td>\n",
              "      <td>0.476201</td>\n",
              "      <td>0.260314</td>\n",
              "      <td>-0.568671</td>\n",
              "      <td>...</td>\n",
              "      <td>-0.208254</td>\n",
              "      <td>-0.559825</td>\n",
              "      <td>-0.026398</td>\n",
              "      <td>-0.371427</td>\n",
              "      <td>-0.232794</td>\n",
              "      <td>0.105915</td>\n",
              "      <td>0.253844</td>\n",
              "      <td>0.081080</td>\n",
              "      <td>3.67</td>\n",
              "      <td>0</td>\n",
              "    </tr>\n",
              "    <tr>\n",
              "      <th>6</th>\n",
              "      <td>4.0</td>\n",
              "      <td>1.229658</td>\n",
              "      <td>0.141004</td>\n",
              "      <td>0.045371</td>\n",
              "      <td>1.202613</td>\n",
              "      <td>0.191881</td>\n",
              "      <td>0.272708</td>\n",
              "      <td>-0.005159</td>\n",
              "      <td>0.081213</td>\n",
              "      <td>0.464960</td>\n",
              "      <td>...</td>\n",
              "      <td>-0.167716</td>\n",
              "      <td>-0.270710</td>\n",
              "      <td>-0.154104</td>\n",
              "      <td>-0.780055</td>\n",
              "      <td>0.750137</td>\n",
              "      <td>-0.257237</td>\n",
              "      <td>0.034507</td>\n",
              "      <td>0.005168</td>\n",
              "      <td>4.99</td>\n",
              "      <td>0</td>\n",
              "    </tr>\n",
              "    <tr>\n",
              "      <th>7</th>\n",
              "      <td>7.0</td>\n",
              "      <td>-0.644269</td>\n",
              "      <td>1.417964</td>\n",
              "      <td>1.074380</td>\n",
              "      <td>-0.492199</td>\n",
              "      <td>0.948934</td>\n",
              "      <td>0.428118</td>\n",
              "      <td>1.120631</td>\n",
              "      <td>-3.807864</td>\n",
              "      <td>0.615375</td>\n",
              "      <td>...</td>\n",
              "      <td>1.943465</td>\n",
              "      <td>-1.015455</td>\n",
              "      <td>0.057504</td>\n",
              "      <td>-0.649709</td>\n",
              "      <td>-0.415267</td>\n",
              "      <td>-0.051634</td>\n",
              "      <td>-1.206921</td>\n",
              "      <td>-1.085339</td>\n",
              "      <td>40.80</td>\n",
              "      <td>0</td>\n",
              "    </tr>\n",
              "    <tr>\n",
              "      <th>8</th>\n",
              "      <td>7.0</td>\n",
              "      <td>-0.894286</td>\n",
              "      <td>0.286157</td>\n",
              "      <td>-0.113192</td>\n",
              "      <td>-0.271526</td>\n",
              "      <td>2.669599</td>\n",
              "      <td>3.721818</td>\n",
              "      <td>0.370145</td>\n",
              "      <td>0.851084</td>\n",
              "      <td>-0.392048</td>\n",
              "      <td>...</td>\n",
              "      <td>-0.073425</td>\n",
              "      <td>-0.268092</td>\n",
              "      <td>-0.204233</td>\n",
              "      <td>1.011592</td>\n",
              "      <td>0.373205</td>\n",
              "      <td>-0.384157</td>\n",
              "      <td>0.011747</td>\n",
              "      <td>0.142404</td>\n",
              "      <td>93.20</td>\n",
              "      <td>0</td>\n",
              "    </tr>\n",
              "    <tr>\n",
              "      <th>9</th>\n",
              "      <td>9.0</td>\n",
              "      <td>-0.338262</td>\n",
              "      <td>1.119593</td>\n",
              "      <td>1.044367</td>\n",
              "      <td>-0.222187</td>\n",
              "      <td>0.499361</td>\n",
              "      <td>-0.246761</td>\n",
              "      <td>0.651583</td>\n",
              "      <td>0.069539</td>\n",
              "      <td>-0.736727</td>\n",
              "      <td>...</td>\n",
              "      <td>-0.246914</td>\n",
              "      <td>-0.633753</td>\n",
              "      <td>-0.120794</td>\n",
              "      <td>-0.385050</td>\n",
              "      <td>-0.069733</td>\n",
              "      <td>0.094199</td>\n",
              "      <td>0.246219</td>\n",
              "      <td>0.083076</td>\n",
              "      <td>3.68</td>\n",
              "      <td>0</td>\n",
              "    </tr>\n",
              "  </tbody>\n",
              "</table>\n",
              "<p>10 rows × 31 columns</p>\n",
              "</div>\n",
              "      <button class=\"colab-df-convert\" onclick=\"convertToInteractive('df-9cd73fa3-c14b-4f30-be2c-67c913369539')\"\n",
              "              title=\"Convert this dataframe to an interactive table.\"\n",
              "              style=\"display:none;\">\n",
              "        \n",
              "  <svg xmlns=\"http://www.w3.org/2000/svg\" height=\"24px\"viewBox=\"0 0 24 24\"\n",
              "       width=\"24px\">\n",
              "    <path d=\"M0 0h24v24H0V0z\" fill=\"none\"/>\n",
              "    <path d=\"M18.56 5.44l.94 2.06.94-2.06 2.06-.94-2.06-.94-.94-2.06-.94 2.06-2.06.94zm-11 1L8.5 8.5l.94-2.06 2.06-.94-2.06-.94L8.5 2.5l-.94 2.06-2.06.94zm10 10l.94 2.06.94-2.06 2.06-.94-2.06-.94-.94-2.06-.94 2.06-2.06.94z\"/><path d=\"M17.41 7.96l-1.37-1.37c-.4-.4-.92-.59-1.43-.59-.52 0-1.04.2-1.43.59L10.3 9.45l-7.72 7.72c-.78.78-.78 2.05 0 2.83L4 21.41c.39.39.9.59 1.41.59.51 0 1.02-.2 1.41-.59l7.78-7.78 2.81-2.81c.8-.78.8-2.07 0-2.86zM5.41 20L4 18.59l7.72-7.72 1.47 1.35L5.41 20z\"/>\n",
              "  </svg>\n",
              "      </button>\n",
              "      \n",
              "  <style>\n",
              "    .colab-df-container {\n",
              "      display:flex;\n",
              "      flex-wrap:wrap;\n",
              "      gap: 12px;\n",
              "    }\n",
              "\n",
              "    .colab-df-convert {\n",
              "      background-color: #E8F0FE;\n",
              "      border: none;\n",
              "      border-radius: 50%;\n",
              "      cursor: pointer;\n",
              "      display: none;\n",
              "      fill: #1967D2;\n",
              "      height: 32px;\n",
              "      padding: 0 0 0 0;\n",
              "      width: 32px;\n",
              "    }\n",
              "\n",
              "    .colab-df-convert:hover {\n",
              "      background-color: #E2EBFA;\n",
              "      box-shadow: 0px 1px 2px rgba(60, 64, 67, 0.3), 0px 1px 3px 1px rgba(60, 64, 67, 0.15);\n",
              "      fill: #174EA6;\n",
              "    }\n",
              "\n",
              "    [theme=dark] .colab-df-convert {\n",
              "      background-color: #3B4455;\n",
              "      fill: #D2E3FC;\n",
              "    }\n",
              "\n",
              "    [theme=dark] .colab-df-convert:hover {\n",
              "      background-color: #434B5C;\n",
              "      box-shadow: 0px 1px 3px 1px rgba(0, 0, 0, 0.15);\n",
              "      filter: drop-shadow(0px 1px 2px rgba(0, 0, 0, 0.3));\n",
              "      fill: #FFFFFF;\n",
              "    }\n",
              "  </style>\n",
              "\n",
              "      <script>\n",
              "        const buttonEl =\n",
              "          document.querySelector('#df-9cd73fa3-c14b-4f30-be2c-67c913369539 button.colab-df-convert');\n",
              "        buttonEl.style.display =\n",
              "          google.colab.kernel.accessAllowed ? 'block' : 'none';\n",
              "\n",
              "        async function convertToInteractive(key) {\n",
              "          const element = document.querySelector('#df-9cd73fa3-c14b-4f30-be2c-67c913369539');\n",
              "          const dataTable =\n",
              "            await google.colab.kernel.invokeFunction('convertToInteractive',\n",
              "                                                     [key], {});\n",
              "          if (!dataTable) return;\n",
              "\n",
              "          const docLinkHtml = 'Like what you see? Visit the ' +\n",
              "            '<a target=\"_blank\" href=https://colab.research.google.com/notebooks/data_table.ipynb>data table notebook</a>'\n",
              "            + ' to learn more about interactive tables.';\n",
              "          element.innerHTML = '';\n",
              "          dataTable['output_type'] = 'display_data';\n",
              "          await google.colab.output.renderOutput(dataTable, element);\n",
              "          const docLink = document.createElement('div');\n",
              "          docLink.innerHTML = docLinkHtml;\n",
              "          element.appendChild(docLink);\n",
              "        }\n",
              "      </script>\n",
              "    </div>\n",
              "  </div>\n",
              "  "
            ]
          },
          "metadata": {},
          "execution_count": 54
        }
      ]
    },
    {
      "cell_type": "code",
      "source": [
        "print('Displaying the last 10 records from the dataframe:')\n",
        "crecard_df.tail(10)"
      ],
      "metadata": {
        "colab": {
          "base_uri": "https://localhost:8080/",
          "height": 475
        },
        "id": "o6ly-TkrqGFe",
        "outputId": "a26c4595-1251-4ad6-952e-0e7802f67f04"
      },
      "execution_count": 55,
      "outputs": [
        {
          "output_type": "stream",
          "name": "stdout",
          "text": [
            "Displaying the last 10 records from the dataframe:\n"
          ]
        },
        {
          "output_type": "execute_result",
          "data": {
            "text/plain": [
              "            Time         V1         V2        V3        V4        V5  \\\n",
              "284797  172782.0  -0.241923   0.712247  0.399806 -0.463406  0.244531   \n",
              "284798  172782.0   0.219529   0.881246 -0.635891  0.960928 -0.152971   \n",
              "284799  172783.0  -1.775135  -0.004235  1.189786  0.331096  1.196063   \n",
              "284800  172784.0   2.039560  -0.175233 -1.196825  0.234580 -0.008713   \n",
              "284801  172785.0   0.120316   0.931005 -0.546012 -0.745097  1.130314   \n",
              "284802  172786.0 -11.881118  10.071785 -9.834783 -2.066656 -5.364473   \n",
              "284803  172787.0  -0.732789  -0.055080  2.035030 -0.738589  0.868229   \n",
              "284804  172788.0   1.919565  -0.301254 -3.249640 -0.557828  2.630515   \n",
              "284805  172788.0  -0.240440   0.530483  0.702510  0.689799 -0.377961   \n",
              "284806  172792.0  -0.533413  -0.189733  0.703337 -0.506271 -0.012546   \n",
              "\n",
              "              V6        V7        V8        V9  ...       V21       V22  \\\n",
              "284797 -1.343668  0.929369 -0.206210  0.106234  ... -0.228876 -0.514376   \n",
              "284798 -1.014307  0.427126  0.121340 -0.285670  ...  0.099936  0.337120   \n",
              "284799  5.519980 -1.518185  2.080825  1.159498  ...  0.103302  0.654850   \n",
              "284800 -0.726571  0.017050 -0.118228  0.435402  ... -0.268048 -0.717211   \n",
              "284801 -0.235973  0.812722  0.115093 -0.204064  ... -0.314205 -0.808520   \n",
              "284802 -2.606837 -4.918215  7.305334  1.914428  ...  0.213454  0.111864   \n",
              "284803  1.058415  0.024330  0.294869  0.584800  ...  0.214205  0.924384   \n",
              "284804  3.031260 -0.296827  0.708417  0.432454  ...  0.232045  0.578229   \n",
              "284805  0.623708 -0.686180  0.679145  0.392087  ...  0.265245  0.800049   \n",
              "284806 -0.649617  1.577006 -0.414650  0.486180  ...  0.261057  0.643078   \n",
              "\n",
              "             V23       V24       V25       V26       V27       V28  Amount  \\\n",
              "284797  0.279598  0.371441 -0.559238  0.113144  0.131507  0.081265    5.49   \n",
              "284798  0.251791  0.057688 -1.508368  0.144023  0.181205  0.215243   24.05   \n",
              "284799 -0.348929  0.745323  0.704545 -0.127579  0.454379  0.130308   79.99   \n",
              "284800  0.297930 -0.359769 -0.315610  0.201114 -0.080826 -0.075071    2.68   \n",
              "284801  0.050343  0.102800 -0.435870  0.124079  0.217940  0.068803    2.69   \n",
              "284802  1.014480 -0.509348  1.436807  0.250034  0.943651  0.823731    0.77   \n",
              "284803  0.012463 -1.016226 -0.606624 -0.395255  0.068472 -0.053527   24.79   \n",
              "284804 -0.037501  0.640134  0.265745 -0.087371  0.004455 -0.026561   67.88   \n",
              "284805 -0.163298  0.123205 -0.569159  0.546668  0.108821  0.104533   10.00   \n",
              "284806  0.376777  0.008797 -0.473649 -0.818267 -0.002415  0.013649  217.00   \n",
              "\n",
              "        Class  \n",
              "284797      0  \n",
              "284798      0  \n",
              "284799      0  \n",
              "284800      0  \n",
              "284801      0  \n",
              "284802      0  \n",
              "284803      0  \n",
              "284804      0  \n",
              "284805      0  \n",
              "284806      0  \n",
              "\n",
              "[10 rows x 31 columns]"
            ],
            "text/html": [
              "\n",
              "  <div id=\"df-7106cb96-520b-4a65-9444-eaaf0d2ff8b9\">\n",
              "    <div class=\"colab-df-container\">\n",
              "      <div>\n",
              "<style scoped>\n",
              "    .dataframe tbody tr th:only-of-type {\n",
              "        vertical-align: middle;\n",
              "    }\n",
              "\n",
              "    .dataframe tbody tr th {\n",
              "        vertical-align: top;\n",
              "    }\n",
              "\n",
              "    .dataframe thead th {\n",
              "        text-align: right;\n",
              "    }\n",
              "</style>\n",
              "<table border=\"1\" class=\"dataframe\">\n",
              "  <thead>\n",
              "    <tr style=\"text-align: right;\">\n",
              "      <th></th>\n",
              "      <th>Time</th>\n",
              "      <th>V1</th>\n",
              "      <th>V2</th>\n",
              "      <th>V3</th>\n",
              "      <th>V4</th>\n",
              "      <th>V5</th>\n",
              "      <th>V6</th>\n",
              "      <th>V7</th>\n",
              "      <th>V8</th>\n",
              "      <th>V9</th>\n",
              "      <th>...</th>\n",
              "      <th>V21</th>\n",
              "      <th>V22</th>\n",
              "      <th>V23</th>\n",
              "      <th>V24</th>\n",
              "      <th>V25</th>\n",
              "      <th>V26</th>\n",
              "      <th>V27</th>\n",
              "      <th>V28</th>\n",
              "      <th>Amount</th>\n",
              "      <th>Class</th>\n",
              "    </tr>\n",
              "  </thead>\n",
              "  <tbody>\n",
              "    <tr>\n",
              "      <th>284797</th>\n",
              "      <td>172782.0</td>\n",
              "      <td>-0.241923</td>\n",
              "      <td>0.712247</td>\n",
              "      <td>0.399806</td>\n",
              "      <td>-0.463406</td>\n",
              "      <td>0.244531</td>\n",
              "      <td>-1.343668</td>\n",
              "      <td>0.929369</td>\n",
              "      <td>-0.206210</td>\n",
              "      <td>0.106234</td>\n",
              "      <td>...</td>\n",
              "      <td>-0.228876</td>\n",
              "      <td>-0.514376</td>\n",
              "      <td>0.279598</td>\n",
              "      <td>0.371441</td>\n",
              "      <td>-0.559238</td>\n",
              "      <td>0.113144</td>\n",
              "      <td>0.131507</td>\n",
              "      <td>0.081265</td>\n",
              "      <td>5.49</td>\n",
              "      <td>0</td>\n",
              "    </tr>\n",
              "    <tr>\n",
              "      <th>284798</th>\n",
              "      <td>172782.0</td>\n",
              "      <td>0.219529</td>\n",
              "      <td>0.881246</td>\n",
              "      <td>-0.635891</td>\n",
              "      <td>0.960928</td>\n",
              "      <td>-0.152971</td>\n",
              "      <td>-1.014307</td>\n",
              "      <td>0.427126</td>\n",
              "      <td>0.121340</td>\n",
              "      <td>-0.285670</td>\n",
              "      <td>...</td>\n",
              "      <td>0.099936</td>\n",
              "      <td>0.337120</td>\n",
              "      <td>0.251791</td>\n",
              "      <td>0.057688</td>\n",
              "      <td>-1.508368</td>\n",
              "      <td>0.144023</td>\n",
              "      <td>0.181205</td>\n",
              "      <td>0.215243</td>\n",
              "      <td>24.05</td>\n",
              "      <td>0</td>\n",
              "    </tr>\n",
              "    <tr>\n",
              "      <th>284799</th>\n",
              "      <td>172783.0</td>\n",
              "      <td>-1.775135</td>\n",
              "      <td>-0.004235</td>\n",
              "      <td>1.189786</td>\n",
              "      <td>0.331096</td>\n",
              "      <td>1.196063</td>\n",
              "      <td>5.519980</td>\n",
              "      <td>-1.518185</td>\n",
              "      <td>2.080825</td>\n",
              "      <td>1.159498</td>\n",
              "      <td>...</td>\n",
              "      <td>0.103302</td>\n",
              "      <td>0.654850</td>\n",
              "      <td>-0.348929</td>\n",
              "      <td>0.745323</td>\n",
              "      <td>0.704545</td>\n",
              "      <td>-0.127579</td>\n",
              "      <td>0.454379</td>\n",
              "      <td>0.130308</td>\n",
              "      <td>79.99</td>\n",
              "      <td>0</td>\n",
              "    </tr>\n",
              "    <tr>\n",
              "      <th>284800</th>\n",
              "      <td>172784.0</td>\n",
              "      <td>2.039560</td>\n",
              "      <td>-0.175233</td>\n",
              "      <td>-1.196825</td>\n",
              "      <td>0.234580</td>\n",
              "      <td>-0.008713</td>\n",
              "      <td>-0.726571</td>\n",
              "      <td>0.017050</td>\n",
              "      <td>-0.118228</td>\n",
              "      <td>0.435402</td>\n",
              "      <td>...</td>\n",
              "      <td>-0.268048</td>\n",
              "      <td>-0.717211</td>\n",
              "      <td>0.297930</td>\n",
              "      <td>-0.359769</td>\n",
              "      <td>-0.315610</td>\n",
              "      <td>0.201114</td>\n",
              "      <td>-0.080826</td>\n",
              "      <td>-0.075071</td>\n",
              "      <td>2.68</td>\n",
              "      <td>0</td>\n",
              "    </tr>\n",
              "    <tr>\n",
              "      <th>284801</th>\n",
              "      <td>172785.0</td>\n",
              "      <td>0.120316</td>\n",
              "      <td>0.931005</td>\n",
              "      <td>-0.546012</td>\n",
              "      <td>-0.745097</td>\n",
              "      <td>1.130314</td>\n",
              "      <td>-0.235973</td>\n",
              "      <td>0.812722</td>\n",
              "      <td>0.115093</td>\n",
              "      <td>-0.204064</td>\n",
              "      <td>...</td>\n",
              "      <td>-0.314205</td>\n",
              "      <td>-0.808520</td>\n",
              "      <td>0.050343</td>\n",
              "      <td>0.102800</td>\n",
              "      <td>-0.435870</td>\n",
              "      <td>0.124079</td>\n",
              "      <td>0.217940</td>\n",
              "      <td>0.068803</td>\n",
              "      <td>2.69</td>\n",
              "      <td>0</td>\n",
              "    </tr>\n",
              "    <tr>\n",
              "      <th>284802</th>\n",
              "      <td>172786.0</td>\n",
              "      <td>-11.881118</td>\n",
              "      <td>10.071785</td>\n",
              "      <td>-9.834783</td>\n",
              "      <td>-2.066656</td>\n",
              "      <td>-5.364473</td>\n",
              "      <td>-2.606837</td>\n",
              "      <td>-4.918215</td>\n",
              "      <td>7.305334</td>\n",
              "      <td>1.914428</td>\n",
              "      <td>...</td>\n",
              "      <td>0.213454</td>\n",
              "      <td>0.111864</td>\n",
              "      <td>1.014480</td>\n",
              "      <td>-0.509348</td>\n",
              "      <td>1.436807</td>\n",
              "      <td>0.250034</td>\n",
              "      <td>0.943651</td>\n",
              "      <td>0.823731</td>\n",
              "      <td>0.77</td>\n",
              "      <td>0</td>\n",
              "    </tr>\n",
              "    <tr>\n",
              "      <th>284803</th>\n",
              "      <td>172787.0</td>\n",
              "      <td>-0.732789</td>\n",
              "      <td>-0.055080</td>\n",
              "      <td>2.035030</td>\n",
              "      <td>-0.738589</td>\n",
              "      <td>0.868229</td>\n",
              "      <td>1.058415</td>\n",
              "      <td>0.024330</td>\n",
              "      <td>0.294869</td>\n",
              "      <td>0.584800</td>\n",
              "      <td>...</td>\n",
              "      <td>0.214205</td>\n",
              "      <td>0.924384</td>\n",
              "      <td>0.012463</td>\n",
              "      <td>-1.016226</td>\n",
              "      <td>-0.606624</td>\n",
              "      <td>-0.395255</td>\n",
              "      <td>0.068472</td>\n",
              "      <td>-0.053527</td>\n",
              "      <td>24.79</td>\n",
              "      <td>0</td>\n",
              "    </tr>\n",
              "    <tr>\n",
              "      <th>284804</th>\n",
              "      <td>172788.0</td>\n",
              "      <td>1.919565</td>\n",
              "      <td>-0.301254</td>\n",
              "      <td>-3.249640</td>\n",
              "      <td>-0.557828</td>\n",
              "      <td>2.630515</td>\n",
              "      <td>3.031260</td>\n",
              "      <td>-0.296827</td>\n",
              "      <td>0.708417</td>\n",
              "      <td>0.432454</td>\n",
              "      <td>...</td>\n",
              "      <td>0.232045</td>\n",
              "      <td>0.578229</td>\n",
              "      <td>-0.037501</td>\n",
              "      <td>0.640134</td>\n",
              "      <td>0.265745</td>\n",
              "      <td>-0.087371</td>\n",
              "      <td>0.004455</td>\n",
              "      <td>-0.026561</td>\n",
              "      <td>67.88</td>\n",
              "      <td>0</td>\n",
              "    </tr>\n",
              "    <tr>\n",
              "      <th>284805</th>\n",
              "      <td>172788.0</td>\n",
              "      <td>-0.240440</td>\n",
              "      <td>0.530483</td>\n",
              "      <td>0.702510</td>\n",
              "      <td>0.689799</td>\n",
              "      <td>-0.377961</td>\n",
              "      <td>0.623708</td>\n",
              "      <td>-0.686180</td>\n",
              "      <td>0.679145</td>\n",
              "      <td>0.392087</td>\n",
              "      <td>...</td>\n",
              "      <td>0.265245</td>\n",
              "      <td>0.800049</td>\n",
              "      <td>-0.163298</td>\n",
              "      <td>0.123205</td>\n",
              "      <td>-0.569159</td>\n",
              "      <td>0.546668</td>\n",
              "      <td>0.108821</td>\n",
              "      <td>0.104533</td>\n",
              "      <td>10.00</td>\n",
              "      <td>0</td>\n",
              "    </tr>\n",
              "    <tr>\n",
              "      <th>284806</th>\n",
              "      <td>172792.0</td>\n",
              "      <td>-0.533413</td>\n",
              "      <td>-0.189733</td>\n",
              "      <td>0.703337</td>\n",
              "      <td>-0.506271</td>\n",
              "      <td>-0.012546</td>\n",
              "      <td>-0.649617</td>\n",
              "      <td>1.577006</td>\n",
              "      <td>-0.414650</td>\n",
              "      <td>0.486180</td>\n",
              "      <td>...</td>\n",
              "      <td>0.261057</td>\n",
              "      <td>0.643078</td>\n",
              "      <td>0.376777</td>\n",
              "      <td>0.008797</td>\n",
              "      <td>-0.473649</td>\n",
              "      <td>-0.818267</td>\n",
              "      <td>-0.002415</td>\n",
              "      <td>0.013649</td>\n",
              "      <td>217.00</td>\n",
              "      <td>0</td>\n",
              "    </tr>\n",
              "  </tbody>\n",
              "</table>\n",
              "<p>10 rows × 31 columns</p>\n",
              "</div>\n",
              "      <button class=\"colab-df-convert\" onclick=\"convertToInteractive('df-7106cb96-520b-4a65-9444-eaaf0d2ff8b9')\"\n",
              "              title=\"Convert this dataframe to an interactive table.\"\n",
              "              style=\"display:none;\">\n",
              "        \n",
              "  <svg xmlns=\"http://www.w3.org/2000/svg\" height=\"24px\"viewBox=\"0 0 24 24\"\n",
              "       width=\"24px\">\n",
              "    <path d=\"M0 0h24v24H0V0z\" fill=\"none\"/>\n",
              "    <path d=\"M18.56 5.44l.94 2.06.94-2.06 2.06-.94-2.06-.94-.94-2.06-.94 2.06-2.06.94zm-11 1L8.5 8.5l.94-2.06 2.06-.94-2.06-.94L8.5 2.5l-.94 2.06-2.06.94zm10 10l.94 2.06.94-2.06 2.06-.94-2.06-.94-.94-2.06-.94 2.06-2.06.94z\"/><path d=\"M17.41 7.96l-1.37-1.37c-.4-.4-.92-.59-1.43-.59-.52 0-1.04.2-1.43.59L10.3 9.45l-7.72 7.72c-.78.78-.78 2.05 0 2.83L4 21.41c.39.39.9.59 1.41.59.51 0 1.02-.2 1.41-.59l7.78-7.78 2.81-2.81c.8-.78.8-2.07 0-2.86zM5.41 20L4 18.59l7.72-7.72 1.47 1.35L5.41 20z\"/>\n",
              "  </svg>\n",
              "      </button>\n",
              "      \n",
              "  <style>\n",
              "    .colab-df-container {\n",
              "      display:flex;\n",
              "      flex-wrap:wrap;\n",
              "      gap: 12px;\n",
              "    }\n",
              "\n",
              "    .colab-df-convert {\n",
              "      background-color: #E8F0FE;\n",
              "      border: none;\n",
              "      border-radius: 50%;\n",
              "      cursor: pointer;\n",
              "      display: none;\n",
              "      fill: #1967D2;\n",
              "      height: 32px;\n",
              "      padding: 0 0 0 0;\n",
              "      width: 32px;\n",
              "    }\n",
              "\n",
              "    .colab-df-convert:hover {\n",
              "      background-color: #E2EBFA;\n",
              "      box-shadow: 0px 1px 2px rgba(60, 64, 67, 0.3), 0px 1px 3px 1px rgba(60, 64, 67, 0.15);\n",
              "      fill: #174EA6;\n",
              "    }\n",
              "\n",
              "    [theme=dark] .colab-df-convert {\n",
              "      background-color: #3B4455;\n",
              "      fill: #D2E3FC;\n",
              "    }\n",
              "\n",
              "    [theme=dark] .colab-df-convert:hover {\n",
              "      background-color: #434B5C;\n",
              "      box-shadow: 0px 1px 3px 1px rgba(0, 0, 0, 0.15);\n",
              "      filter: drop-shadow(0px 1px 2px rgba(0, 0, 0, 0.3));\n",
              "      fill: #FFFFFF;\n",
              "    }\n",
              "  </style>\n",
              "\n",
              "      <script>\n",
              "        const buttonEl =\n",
              "          document.querySelector('#df-7106cb96-520b-4a65-9444-eaaf0d2ff8b9 button.colab-df-convert');\n",
              "        buttonEl.style.display =\n",
              "          google.colab.kernel.accessAllowed ? 'block' : 'none';\n",
              "\n",
              "        async function convertToInteractive(key) {\n",
              "          const element = document.querySelector('#df-7106cb96-520b-4a65-9444-eaaf0d2ff8b9');\n",
              "          const dataTable =\n",
              "            await google.colab.kernel.invokeFunction('convertToInteractive',\n",
              "                                                     [key], {});\n",
              "          if (!dataTable) return;\n",
              "\n",
              "          const docLinkHtml = 'Like what you see? Visit the ' +\n",
              "            '<a target=\"_blank\" href=https://colab.research.google.com/notebooks/data_table.ipynb>data table notebook</a>'\n",
              "            + ' to learn more about interactive tables.';\n",
              "          element.innerHTML = '';\n",
              "          dataTable['output_type'] = 'display_data';\n",
              "          await google.colab.output.renderOutput(dataTable, element);\n",
              "          const docLink = document.createElement('div');\n",
              "          docLink.innerHTML = docLinkHtml;\n",
              "          element.appendChild(docLink);\n",
              "        }\n",
              "      </script>\n",
              "    </div>\n",
              "  </div>\n",
              "  "
            ]
          },
          "metadata": {},
          "execution_count": 55
        }
      ]
    },
    {
      "cell_type": "markdown",
      "source": [
        "### Check the dimension of the dataframe"
      ],
      "metadata": {
        "id": "YT68xv7HrXEH"
      }
    },
    {
      "cell_type": "code",
      "source": [
        "print('It displays the dimension of the dataframe:', crecard_df.ndim)"
      ],
      "metadata": {
        "colab": {
          "base_uri": "https://localhost:8080/"
        },
        "id": "KnUdWFTRr9Ou",
        "outputId": "05f575db-50f3-4441-9e71-8d44e44ee10c"
      },
      "execution_count": 18,
      "outputs": [
        {
          "output_type": "stream",
          "name": "stdout",
          "text": [
            "It displays the dimension of the dataframe: 2\n"
          ]
        }
      ]
    },
    {
      "cell_type": "markdown",
      "source": [
        "### Check the number of number of Elements in the Dataset"
      ],
      "metadata": {
        "id": "WLtyY_bos_T4"
      }
    },
    {
      "cell_type": "code",
      "source": [
        "print('This displays the total elements in the dataframe:', crecard_df.shape)\n",
        "print('It means that the dataframe has 284807 rows and 31 columns')"
      ],
      "metadata": {
        "colab": {
          "base_uri": "https://localhost:8080/"
        },
        "id": "vF5_AVpi24EF",
        "outputId": "040c162d-4c38-40e2-b850-22748b623f61"
      },
      "execution_count": 41,
      "outputs": [
        {
          "output_type": "stream",
          "name": "stdout",
          "text": [
            "This displays the total elements in the dataframe: (284807, 31)\n",
            "It means that the dataframe has 284807 rows and 31 columns\n"
          ]
        }
      ]
    },
    {
      "cell_type": "markdown",
      "source": [
        "### Check the number of Data types in the Dataset"
      ],
      "metadata": {
        "id": "yWED2dF6tKlG"
      }
    },
    {
      "cell_type": "code",
      "source": [
        "print('This displays the total elements in the dataframe:', crecard_df.shape)\n",
        "print('It means that the dataframe has 284807 rows and 31 colums')"
      ],
      "metadata": {
        "colab": {
          "base_uri": "https://localhost:8080/"
        },
        "id": "D7dHX4YAtK9h",
        "outputId": "962d294f-52e4-43c4-9f26-d816bd695108"
      },
      "execution_count": 32,
      "outputs": [
        {
          "output_type": "stream",
          "name": "stdout",
          "text": [
            "This displays the total elements in the dataframe: (284807, 31)\n",
            "It means that the dataframe has 284807 rows and 31 colums\n"
          ]
        }
      ]
    },
    {
      "cell_type": "markdown",
      "source": [
        "Let's observe some statistical implications from our dataset"
      ],
      "metadata": {
        "id": "DEdNZDE0wSCk"
      }
    },
    {
      "cell_type": "markdown",
      "source": [
        "### Display distinct columns:\n"
      ],
      "metadata": {
        "id": "jC632icv3xMS"
      }
    },
    {
      "cell_type": "code",
      "source": [
        "crecard_df.columns"
      ],
      "metadata": {
        "colab": {
          "base_uri": "https://localhost:8080/"
        },
        "id": "heja0rJM3x2X",
        "outputId": "f40faba8-e098-4e61-cd1f-3a41d1836639"
      },
      "execution_count": 44,
      "outputs": [
        {
          "output_type": "execute_result",
          "data": {
            "text/plain": [
              "Index(['Time', 'V1', 'V2', 'V3', 'V4', 'V5', 'V6', 'V7', 'V8', 'V9', 'V10',\n",
              "       'V11', 'V12', 'V13', 'V14', 'V15', 'V16', 'V17', 'V18', 'V19', 'V20',\n",
              "       'V21', 'V22', 'V23', 'V24', 'V25', 'V26', 'V27', 'V28', 'Amount',\n",
              "       'Class'],\n",
              "      dtype='object')"
            ]
          },
          "metadata": {},
          "execution_count": 44
        }
      ]
    },
    {
      "cell_type": "code",
      "source": [
        "list(crecard_df[['Time', 'Amount', 'Class']])"
      ],
      "metadata": {
        "colab": {
          "base_uri": "https://localhost:8080/"
        },
        "id": "1G-AZbux4AZg",
        "outputId": "40a67a86-a978-48c7-8e5a-d16fb13eaac2"
      },
      "execution_count": 48,
      "outputs": [
        {
          "output_type": "execute_result",
          "data": {
            "text/plain": [
              "['Time', 'Amount', 'Class']"
            ]
          },
          "metadata": {},
          "execution_count": 48
        }
      ]
    },
    {
      "cell_type": "markdown",
      "source": [
        "### Let's have a general view of our dataset"
      ],
      "metadata": {
        "id": "oapokaUKIM6p"
      }
    },
    {
      "cell_type": "code",
      "source": [
        "# Display the general information of the dataframe\n",
        "crecard_df.info(verbose=True)"
      ],
      "metadata": {
        "colab": {
          "base_uri": "https://localhost:8080/"
        },
        "id": "BCavK1ISIYER",
        "outputId": "fadcdd05-9237-405a-b448-0070e3f72c9b"
      },
      "execution_count": 56,
      "outputs": [
        {
          "output_type": "stream",
          "name": "stdout",
          "text": [
            "<class 'pandas.core.frame.DataFrame'>\n",
            "RangeIndex: 284807 entries, 0 to 284806\n",
            "Data columns (total 31 columns):\n",
            " #   Column  Non-Null Count   Dtype  \n",
            "---  ------  --------------   -----  \n",
            " 0   Time    284807 non-null  float64\n",
            " 1   V1      284807 non-null  float64\n",
            " 2   V2      284807 non-null  float64\n",
            " 3   V3      284807 non-null  float64\n",
            " 4   V4      284807 non-null  float64\n",
            " 5   V5      284807 non-null  float64\n",
            " 6   V6      284807 non-null  float64\n",
            " 7   V7      284807 non-null  float64\n",
            " 8   V8      284807 non-null  float64\n",
            " 9   V9      284807 non-null  float64\n",
            " 10  V10     284807 non-null  float64\n",
            " 11  V11     284807 non-null  float64\n",
            " 12  V12     284807 non-null  float64\n",
            " 13  V13     284807 non-null  float64\n",
            " 14  V14     284807 non-null  float64\n",
            " 15  V15     284807 non-null  float64\n",
            " 16  V16     284807 non-null  float64\n",
            " 17  V17     284807 non-null  float64\n",
            " 18  V18     284807 non-null  float64\n",
            " 19  V19     284807 non-null  float64\n",
            " 20  V20     284807 non-null  float64\n",
            " 21  V21     284807 non-null  float64\n",
            " 22  V22     284807 non-null  float64\n",
            " 23  V23     284807 non-null  float64\n",
            " 24  V24     284807 non-null  float64\n",
            " 25  V25     284807 non-null  float64\n",
            " 26  V26     284807 non-null  float64\n",
            " 27  V27     284807 non-null  float64\n",
            " 28  V28     284807 non-null  float64\n",
            " 29  Amount  284807 non-null  float64\n",
            " 30  Class   284807 non-null  int64  \n",
            "dtypes: float64(30), int64(1)\n",
            "memory usage: 67.4 MB\n"
          ]
        }
      ]
    },
    {
      "cell_type": "markdown",
      "source": [
        "We can observe that the **crecard_df.info(verbose= True)** enables us to see the composition of our data set. It prints information of all the columns. From indication, all variables have non-null values. The varibales are made up of just one integer data type and thirty float data types. "
      ],
      "metadata": {
        "id": "bsqwoxMJInmT"
      }
    },
    {
      "cell_type": "code",
      "source": [
        "# Display only the data types in the dataset. \n",
        "crecard_df.dtypes"
      ],
      "metadata": {
        "colab": {
          "base_uri": "https://localhost:8080/"
        },
        "id": "nYTMnEODJeek",
        "outputId": "4bb92ea4-f235-42f6-cd99-ba88cbc5ae18"
      },
      "execution_count": 57,
      "outputs": [
        {
          "output_type": "execute_result",
          "data": {
            "text/plain": [
              "Time      float64\n",
              "V1        float64\n",
              "V2        float64\n",
              "V3        float64\n",
              "V4        float64\n",
              "V5        float64\n",
              "V6        float64\n",
              "V7        float64\n",
              "V8        float64\n",
              "V9        float64\n",
              "V10       float64\n",
              "V11       float64\n",
              "V12       float64\n",
              "V13       float64\n",
              "V14       float64\n",
              "V15       float64\n",
              "V16       float64\n",
              "V17       float64\n",
              "V18       float64\n",
              "V19       float64\n",
              "V20       float64\n",
              "V21       float64\n",
              "V22       float64\n",
              "V23       float64\n",
              "V24       float64\n",
              "V25       float64\n",
              "V26       float64\n",
              "V27       float64\n",
              "V28       float64\n",
              "Amount    float64\n",
              "Class       int64\n",
              "dtype: object"
            ]
          },
          "metadata": {},
          "execution_count": 57
        }
      ]
    },
    {
      "cell_type": "markdown",
      "source": [
        "### Let's observe some statistical implications from our dataset for:"
      ],
      "metadata": {
        "id": "4bPTbwkn6yIC"
      }
    },
    {
      "cell_type": "code",
      "source": [
        "print('The statistical measurements of the dataframe:', crecard_df.describe())"
      ],
      "metadata": {
        "colab": {
          "base_uri": "https://localhost:8080/"
        },
        "id": "Yd8FTqbQwSeT",
        "outputId": "89ec0267-8d50-4c2c-a289-aba33c89943c"
      },
      "execution_count": 34,
      "outputs": [
        {
          "output_type": "stream",
          "name": "stdout",
          "text": [
            "The statistical measurements of the dataframe:                 Time            V1            V2            V3            V4  \\\n",
            "count  284807.000000  2.848070e+05  2.848070e+05  2.848070e+05  2.848070e+05   \n",
            "mean    94813.859575  1.168375e-15  3.416908e-16 -1.379537e-15  2.074095e-15   \n",
            "std     47488.145955  1.958696e+00  1.651309e+00  1.516255e+00  1.415869e+00   \n",
            "min         0.000000 -5.640751e+01 -7.271573e+01 -4.832559e+01 -5.683171e+00   \n",
            "25%     54201.500000 -9.203734e-01 -5.985499e-01 -8.903648e-01 -8.486401e-01   \n",
            "50%     84692.000000  1.810880e-02  6.548556e-02  1.798463e-01 -1.984653e-02   \n",
            "75%    139320.500000  1.315642e+00  8.037239e-01  1.027196e+00  7.433413e-01   \n",
            "max    172792.000000  2.454930e+00  2.205773e+01  9.382558e+00  1.687534e+01   \n",
            "\n",
            "                 V5            V6            V7            V8            V9  \\\n",
            "count  2.848070e+05  2.848070e+05  2.848070e+05  2.848070e+05  2.848070e+05   \n",
            "mean   9.604066e-16  1.487313e-15 -5.556467e-16  1.213481e-16 -2.406331e-15   \n",
            "std    1.380247e+00  1.332271e+00  1.237094e+00  1.194353e+00  1.098632e+00   \n",
            "min   -1.137433e+02 -2.616051e+01 -4.355724e+01 -7.321672e+01 -1.343407e+01   \n",
            "25%   -6.915971e-01 -7.682956e-01 -5.540759e-01 -2.086297e-01 -6.430976e-01   \n",
            "50%   -5.433583e-02 -2.741871e-01  4.010308e-02  2.235804e-02 -5.142873e-02   \n",
            "75%    6.119264e-01  3.985649e-01  5.704361e-01  3.273459e-01  5.971390e-01   \n",
            "max    3.480167e+01  7.330163e+01  1.205895e+02  2.000721e+01  1.559499e+01   \n",
            "\n",
            "       ...           V21           V22           V23           V24  \\\n",
            "count  ...  2.848070e+05  2.848070e+05  2.848070e+05  2.848070e+05   \n",
            "mean   ...  1.654067e-16 -3.568593e-16  2.578648e-16  4.473266e-15   \n",
            "std    ...  7.345240e-01  7.257016e-01  6.244603e-01  6.056471e-01   \n",
            "min    ... -3.483038e+01 -1.093314e+01 -4.480774e+01 -2.836627e+00   \n",
            "25%    ... -2.283949e-01 -5.423504e-01 -1.618463e-01 -3.545861e-01   \n",
            "50%    ... -2.945017e-02  6.781943e-03 -1.119293e-02  4.097606e-02   \n",
            "75%    ...  1.863772e-01  5.285536e-01  1.476421e-01  4.395266e-01   \n",
            "max    ...  2.720284e+01  1.050309e+01  2.252841e+01  4.584549e+00   \n",
            "\n",
            "                V25           V26           V27           V28         Amount  \\\n",
            "count  2.848070e+05  2.848070e+05  2.848070e+05  2.848070e+05  284807.000000   \n",
            "mean   5.340915e-16  1.683437e-15 -3.660091e-16 -1.227390e-16      88.349619   \n",
            "std    5.212781e-01  4.822270e-01  4.036325e-01  3.300833e-01     250.120109   \n",
            "min   -1.029540e+01 -2.604551e+00 -2.256568e+01 -1.543008e+01       0.000000   \n",
            "25%   -3.171451e-01 -3.269839e-01 -7.083953e-02 -5.295979e-02       5.600000   \n",
            "50%    1.659350e-02 -5.213911e-02  1.342146e-03  1.124383e-02      22.000000   \n",
            "75%    3.507156e-01  2.409522e-01  9.104512e-02  7.827995e-02      77.165000   \n",
            "max    7.519589e+00  3.517346e+00  3.161220e+01  3.384781e+01   25691.160000   \n",
            "\n",
            "               Class  \n",
            "count  284807.000000  \n",
            "mean        0.001727  \n",
            "std         0.041527  \n",
            "min         0.000000  \n",
            "25%         0.000000  \n",
            "50%         0.000000  \n",
            "75%         0.000000  \n",
            "max         1.000000  \n",
            "\n",
            "[8 rows x 31 columns]\n"
          ]
        }
      ]
    },
    {
      "cell_type": "markdown",
      "source": [
        "### Let's observe some specific statistical implications from our dataset for:\n",
        "* Time\n",
        "* Amount\n",
        "* Class"
      ],
      "metadata": {
        "id": "scaqLMC1wq18"
      }
    },
    {
      "cell_type": "code",
      "source": [
        "print('This is the summary of the statistical measurements for:')\n",
        "crecard_df[['Time', 'Amount', 'Class']].describe()\n"
      ],
      "metadata": {
        "colab": {
          "base_uri": "https://localhost:8080/",
          "height": 319
        },
        "id": "HPUCSER7wqlJ",
        "outputId": "cefb7796-1fcb-457c-ee2f-09335f2d1606"
      },
      "execution_count": 39,
      "outputs": [
        {
          "output_type": "stream",
          "name": "stdout",
          "text": [
            "This is the summary of the statistical measurements for:\n"
          ]
        },
        {
          "output_type": "execute_result",
          "data": {
            "text/plain": [
              "                Time         Amount          Class\n",
              "count  284807.000000  284807.000000  284807.000000\n",
              "mean    94813.859575      88.349619       0.001727\n",
              "std     47488.145955     250.120109       0.041527\n",
              "min         0.000000       0.000000       0.000000\n",
              "25%     54201.500000       5.600000       0.000000\n",
              "50%     84692.000000      22.000000       0.000000\n",
              "75%    139320.500000      77.165000       0.000000\n",
              "max    172792.000000   25691.160000       1.000000"
            ],
            "text/html": [
              "\n",
              "  <div id=\"df-b76b7b74-921a-4919-88c6-c3c7dd5a6132\">\n",
              "    <div class=\"colab-df-container\">\n",
              "      <div>\n",
              "<style scoped>\n",
              "    .dataframe tbody tr th:only-of-type {\n",
              "        vertical-align: middle;\n",
              "    }\n",
              "\n",
              "    .dataframe tbody tr th {\n",
              "        vertical-align: top;\n",
              "    }\n",
              "\n",
              "    .dataframe thead th {\n",
              "        text-align: right;\n",
              "    }\n",
              "</style>\n",
              "<table border=\"1\" class=\"dataframe\">\n",
              "  <thead>\n",
              "    <tr style=\"text-align: right;\">\n",
              "      <th></th>\n",
              "      <th>Time</th>\n",
              "      <th>Amount</th>\n",
              "      <th>Class</th>\n",
              "    </tr>\n",
              "  </thead>\n",
              "  <tbody>\n",
              "    <tr>\n",
              "      <th>count</th>\n",
              "      <td>284807.000000</td>\n",
              "      <td>284807.000000</td>\n",
              "      <td>284807.000000</td>\n",
              "    </tr>\n",
              "    <tr>\n",
              "      <th>mean</th>\n",
              "      <td>94813.859575</td>\n",
              "      <td>88.349619</td>\n",
              "      <td>0.001727</td>\n",
              "    </tr>\n",
              "    <tr>\n",
              "      <th>std</th>\n",
              "      <td>47488.145955</td>\n",
              "      <td>250.120109</td>\n",
              "      <td>0.041527</td>\n",
              "    </tr>\n",
              "    <tr>\n",
              "      <th>min</th>\n",
              "      <td>0.000000</td>\n",
              "      <td>0.000000</td>\n",
              "      <td>0.000000</td>\n",
              "    </tr>\n",
              "    <tr>\n",
              "      <th>25%</th>\n",
              "      <td>54201.500000</td>\n",
              "      <td>5.600000</td>\n",
              "      <td>0.000000</td>\n",
              "    </tr>\n",
              "    <tr>\n",
              "      <th>50%</th>\n",
              "      <td>84692.000000</td>\n",
              "      <td>22.000000</td>\n",
              "      <td>0.000000</td>\n",
              "    </tr>\n",
              "    <tr>\n",
              "      <th>75%</th>\n",
              "      <td>139320.500000</td>\n",
              "      <td>77.165000</td>\n",
              "      <td>0.000000</td>\n",
              "    </tr>\n",
              "    <tr>\n",
              "      <th>max</th>\n",
              "      <td>172792.000000</td>\n",
              "      <td>25691.160000</td>\n",
              "      <td>1.000000</td>\n",
              "    </tr>\n",
              "  </tbody>\n",
              "</table>\n",
              "</div>\n",
              "      <button class=\"colab-df-convert\" onclick=\"convertToInteractive('df-b76b7b74-921a-4919-88c6-c3c7dd5a6132')\"\n",
              "              title=\"Convert this dataframe to an interactive table.\"\n",
              "              style=\"display:none;\">\n",
              "        \n",
              "  <svg xmlns=\"http://www.w3.org/2000/svg\" height=\"24px\"viewBox=\"0 0 24 24\"\n",
              "       width=\"24px\">\n",
              "    <path d=\"M0 0h24v24H0V0z\" fill=\"none\"/>\n",
              "    <path d=\"M18.56 5.44l.94 2.06.94-2.06 2.06-.94-2.06-.94-.94-2.06-.94 2.06-2.06.94zm-11 1L8.5 8.5l.94-2.06 2.06-.94-2.06-.94L8.5 2.5l-.94 2.06-2.06.94zm10 10l.94 2.06.94-2.06 2.06-.94-2.06-.94-.94-2.06-.94 2.06-2.06.94z\"/><path d=\"M17.41 7.96l-1.37-1.37c-.4-.4-.92-.59-1.43-.59-.52 0-1.04.2-1.43.59L10.3 9.45l-7.72 7.72c-.78.78-.78 2.05 0 2.83L4 21.41c.39.39.9.59 1.41.59.51 0 1.02-.2 1.41-.59l7.78-7.78 2.81-2.81c.8-.78.8-2.07 0-2.86zM5.41 20L4 18.59l7.72-7.72 1.47 1.35L5.41 20z\"/>\n",
              "  </svg>\n",
              "      </button>\n",
              "      \n",
              "  <style>\n",
              "    .colab-df-container {\n",
              "      display:flex;\n",
              "      flex-wrap:wrap;\n",
              "      gap: 12px;\n",
              "    }\n",
              "\n",
              "    .colab-df-convert {\n",
              "      background-color: #E8F0FE;\n",
              "      border: none;\n",
              "      border-radius: 50%;\n",
              "      cursor: pointer;\n",
              "      display: none;\n",
              "      fill: #1967D2;\n",
              "      height: 32px;\n",
              "      padding: 0 0 0 0;\n",
              "      width: 32px;\n",
              "    }\n",
              "\n",
              "    .colab-df-convert:hover {\n",
              "      background-color: #E2EBFA;\n",
              "      box-shadow: 0px 1px 2px rgba(60, 64, 67, 0.3), 0px 1px 3px 1px rgba(60, 64, 67, 0.15);\n",
              "      fill: #174EA6;\n",
              "    }\n",
              "\n",
              "    [theme=dark] .colab-df-convert {\n",
              "      background-color: #3B4455;\n",
              "      fill: #D2E3FC;\n",
              "    }\n",
              "\n",
              "    [theme=dark] .colab-df-convert:hover {\n",
              "      background-color: #434B5C;\n",
              "      box-shadow: 0px 1px 3px 1px rgba(0, 0, 0, 0.15);\n",
              "      filter: drop-shadow(0px 1px 2px rgba(0, 0, 0, 0.3));\n",
              "      fill: #FFFFFF;\n",
              "    }\n",
              "  </style>\n",
              "\n",
              "      <script>\n",
              "        const buttonEl =\n",
              "          document.querySelector('#df-b76b7b74-921a-4919-88c6-c3c7dd5a6132 button.colab-df-convert');\n",
              "        buttonEl.style.display =\n",
              "          google.colab.kernel.accessAllowed ? 'block' : 'none';\n",
              "\n",
              "        async function convertToInteractive(key) {\n",
              "          const element = document.querySelector('#df-b76b7b74-921a-4919-88c6-c3c7dd5a6132');\n",
              "          const dataTable =\n",
              "            await google.colab.kernel.invokeFunction('convertToInteractive',\n",
              "                                                     [key], {});\n",
              "          if (!dataTable) return;\n",
              "\n",
              "          const docLinkHtml = 'Like what you see? Visit the ' +\n",
              "            '<a target=\"_blank\" href=https://colab.research.google.com/notebooks/data_table.ipynb>data table notebook</a>'\n",
              "            + ' to learn more about interactive tables.';\n",
              "          element.innerHTML = '';\n",
              "          dataTable['output_type'] = 'display_data';\n",
              "          await google.colab.output.renderOutput(dataTable, element);\n",
              "          const docLink = document.createElement('div');\n",
              "          docLink.innerHTML = docLinkHtml;\n",
              "          element.appendChild(docLink);\n",
              "        }\n",
              "      </script>\n",
              "    </div>\n",
              "  </div>\n",
              "  "
            ]
          },
          "metadata": {},
          "execution_count": 39
        }
      ]
    },
    {
      "cell_type": "markdown",
      "source": [
        "### Check for missing values.\n",
        "It is important to investigate if we have null values in our dataset. This is because with the presence of missing data, our model prediction will not be accurate. "
      ],
      "metadata": {
        "id": "rg8KhjJwDP3m"
      }
    },
    {
      "cell_type": "code",
      "source": [
        "crecard_df.isna().any()"
      ],
      "metadata": {
        "colab": {
          "base_uri": "https://localhost:8080/"
        },
        "id": "0Jc4rVPTxzMr",
        "outputId": "19253dcc-7868-4d4a-d5b8-9dad17298af2"
      },
      "execution_count": 50,
      "outputs": [
        {
          "output_type": "execute_result",
          "data": {
            "text/plain": [
              "Time      False\n",
              "V1        False\n",
              "V2        False\n",
              "V3        False\n",
              "V4        False\n",
              "V5        False\n",
              "V6        False\n",
              "V7        False\n",
              "V8        False\n",
              "V9        False\n",
              "V10       False\n",
              "V11       False\n",
              "V12       False\n",
              "V13       False\n",
              "V14       False\n",
              "V15       False\n",
              "V16       False\n",
              "V17       False\n",
              "V18       False\n",
              "V19       False\n",
              "V20       False\n",
              "V21       False\n",
              "V22       False\n",
              "V23       False\n",
              "V24       False\n",
              "V25       False\n",
              "V26       False\n",
              "V27       False\n",
              "V28       False\n",
              "Amount    False\n",
              "Class     False\n",
              "dtype: bool"
            ]
          },
          "metadata": {},
          "execution_count": 50
        }
      ]
    },
    {
      "cell_type": "markdown",
      "source": [
        "Let us investigate further"
      ],
      "metadata": {
        "id": "PakURILpJ-WA"
      }
    },
    {
      "cell_type": "code",
      "source": [
        "# Checking for Null values and its counts in the dataset\n",
        "crecard_df.isnull().sum()"
      ],
      "metadata": {
        "colab": {
          "base_uri": "https://localhost:8080/"
        },
        "id": "tWhINN4ED_9I",
        "outputId": "99ca1fae-5fef-4e60-f4cf-5750a266c448"
      },
      "execution_count": 58,
      "outputs": [
        {
          "output_type": "execute_result",
          "data": {
            "text/plain": [
              "Time      0\n",
              "V1        0\n",
              "V2        0\n",
              "V3        0\n",
              "V4        0\n",
              "V5        0\n",
              "V6        0\n",
              "V7        0\n",
              "V8        0\n",
              "V9        0\n",
              "V10       0\n",
              "V11       0\n",
              "V12       0\n",
              "V13       0\n",
              "V14       0\n",
              "V15       0\n",
              "V16       0\n",
              "V17       0\n",
              "V18       0\n",
              "V19       0\n",
              "V20       0\n",
              "V21       0\n",
              "V22       0\n",
              "V23       0\n",
              "V24       0\n",
              "V25       0\n",
              "V26       0\n",
              "V27       0\n",
              "V28       0\n",
              "Amount    0\n",
              "Class     0\n",
              "dtype: int64"
            ]
          },
          "metadata": {},
          "execution_count": 58
        }
      ]
    },
    {
      "cell_type": "markdown",
      "source": [
        "### Visualise the missing values"
      ],
      "metadata": {
        "id": "9nUUC-66KQQU"
      }
    },
    {
      "cell_type": "code",
      "source": [
        "# Visualise the missing values with the seaborn heatmap\n",
        "sns.heatmap(crecard_df.isnull(), cbar=False)"
      ],
      "metadata": {
        "colab": {
          "base_uri": "https://localhost:8080/",
          "height": 505
        },
        "id": "sGMTRzrYKM4-",
        "outputId": "f4a85c14-fce2-4dbe-d765-b4b6898bcf3b"
      },
      "execution_count": 60,
      "outputs": [
        {
          "output_type": "execute_result",
          "data": {
            "text/plain": [
              "<Axes: >"
            ]
          },
          "metadata": {},
          "execution_count": 60
        },
        {
          "output_type": "display_data",
          "data": {
            "text/plain": [
              "<Figure size 640x480 with 1 Axes>"
            ],
            "image/png": "[encoded data removed]"
          },
          "metadata": {}
        }
      ]
    },
    {
      "cell_type": "markdown",
      "source": [
        "The above heatmap indicates that there are no missing values in our dataset. Maybe this library could not capture the missing values for us so we will explore further by using a matrix."
      ],
      "metadata": {
        "id": "iBAS0GQNKkCU"
      }
    },
    {
      "cell_type": "code",
      "source": [
        "# Visualise the missing values with the missingno matrix\n",
        "msno.matrix(crecard_df)"
      ],
      "metadata": {
        "colab": {
          "base_uri": "https://localhost:8080/",
          "height": 438
        },
        "id": "f_FtZZRuKXLN",
        "outputId": "4c0c634c-7161-489a-b5af-065f53653a42"
      },
      "execution_count": 61,
      "outputs": [
        {
          "output_type": "execute_result",
          "data": {
            "text/plain": [
              "<Axes: >"
            ]
          },
          "metadata": {},
          "execution_count": 61
        },
        {
          "output_type": "display_data",
          "data": {
            "text/plain": [
              "<Figure size 2500x1000 with 2 Axes>"
            ],
            "image/png": "[encoded data removed]"
          },
          "metadata": {}
        }
      ]
    },
    {
      "cell_type": "markdown",
      "source": [
        "Again, we can observe that all our data are present without any missing values. Let's use the **missingno bar plot** to test this further."
      ],
      "metadata": {
        "id": "R915vU5eK7if"
      }
    },
    {
      "cell_type": "code",
      "source": [
        "# Visualise the missing values with the missingno bar plot\n",
        "msno.bar(crecard_df)"
      ],
      "metadata": {
        "colab": {
          "base_uri": "https://localhost:8080/",
          "height": 468
        },
        "id": "KSaQHSCoKi0h",
        "outputId": "6a8e44c8-6da5-4174-9f17-bc6164bf8195"
      },
      "execution_count": 62,
      "outputs": [
        {
          "output_type": "execute_result",
          "data": {
            "text/plain": [
              "<Axes: >"
            ]
          },
          "metadata": {},
          "execution_count": 62
        },
        {
          "output_type": "display_data",
          "data": {
            "text/plain": [
              "<Figure size 2500x1000 with 3 Axes>"
            ],
            "image/png": "[encoded data removed]"
          },
          "metadata": {}
        }
      ]
    },
    {
      "cell_type": "markdown",
      "source": [
        "Here, we can see that all the **thirty-one variables** have all **284807 observations** present without any value missing."
      ],
      "metadata": {
        "id": "A6eGMEgjKipc"
      }
    },
    {
      "cell_type": "code",
      "source": [
        "# Checking the percentage of NaN values present in each feature\n",
        "# Making a list of features which has missing values\n",
        "\n",
        "features_with_na = [features for features in crecard_df.columns if crecard_df[features].isnull().sum() >1]\n",
        "#the feature name and the ercentage of the missing values \n",
        "\n",
        "for feature in features_with_na:\n",
        "    print(feature, np.round(crecard_df[feature].isnull().mean(), 4), ' % missing values')"
      ],
      "metadata": {
        "id": "LCAwyduzLxcj"
      },
      "execution_count": 63,
      "outputs": []
    },
    {
      "cell_type": "markdown",
      "source": [
        "Checking the percentages of our missing values"
      ],
      "metadata": {
        "id": "Xv373o9GQx5-"
      }
    },
    {
      "cell_type": "code",
      "source": [
        "percent_null_columns = pd.DataFrame({\n",
        "    'Columns': crecard_df.isna().sum().index,\n",
        "    'No. Null values': crecard_df.isna().sum().values,\n",
        "    'Percentage': crecard_df.isna().sum().values/crecard_df.shape[0]\n",
        "})\n",
        "percent_null_columns"
      ],
      "metadata": {
        "colab": {
          "base_uri": "https://localhost:8080/",
          "height": 1000
        },
        "id": "YiVEoe3DPtc7",
        "outputId": "5662df80-9504-4089-ff61-d76f0820e264"
      },
      "execution_count": 71,
      "outputs": [
        {
          "output_type": "execute_result",
          "data": {
            "text/plain": [
              "   Columns  No. Null values  Percentage\n",
              "0     Time                0         0.0\n",
              "1       V1                0         0.0\n",
              "2       V2                0         0.0\n",
              "3       V3                0         0.0\n",
              "4       V4                0         0.0\n",
              "5       V5                0         0.0\n",
              "6       V6                0         0.0\n",
              "7       V7                0         0.0\n",
              "8       V8                0         0.0\n",
              "9       V9                0         0.0\n",
              "10     V10                0         0.0\n",
              "11     V11                0         0.0\n",
              "12     V12                0         0.0\n",
              "13     V13                0         0.0\n",
              "14     V14                0         0.0\n",
              "15     V15                0         0.0\n",
              "16     V16                0         0.0\n",
              "17     V17                0         0.0\n",
              "18     V18                0         0.0\n",
              "19     V19                0         0.0\n",
              "20     V20                0         0.0\n",
              "21     V21                0         0.0\n",
              "22     V22                0         0.0\n",
              "23     V23                0         0.0\n",
              "24     V24                0         0.0\n",
              "25     V25                0         0.0\n",
              "26     V26                0         0.0\n",
              "27     V27                0         0.0\n",
              "28     V28                0         0.0\n",
              "29  Amount                0         0.0\n",
              "30   Class                0         0.0"
            ],
            "text/html": [
              "\n",
              "  <div id=\"df-af77b153-d69a-4de4-87c3-8d4cc5790374\">\n",
              "    <div class=\"colab-df-container\">\n",
              "      <div>\n",
              "<style scoped>\n",
              "    .dataframe tbody tr th:only-of-type {\n",
              "        vertical-align: middle;\n",
              "    }\n",
              "\n",
              "    .dataframe tbody tr th {\n",
              "        vertical-align: top;\n",
              "    }\n",
              "\n",
              "    .dataframe thead th {\n",
              "        text-align: right;\n",
              "    }\n",
              "</style>\n",
              "<table border=\"1\" class=\"dataframe\">\n",
              "  <thead>\n",
              "    <tr style=\"text-align: right;\">\n",
              "      <th></th>\n",
              "      <th>Columns</th>\n",
              "      <th>No. Null values</th>\n",
              "      <th>Percentage</th>\n",
              "    </tr>\n",
              "  </thead>\n",
              "  <tbody>\n",
              "    <tr>\n",
              "      <th>0</th>\n",
              "      <td>Time</td>\n",
              "      <td>0</td>\n",
              "      <td>0.0</td>\n",
              "    </tr>\n",
              "    <tr>\n",
              "      <th>1</th>\n",
              "      <td>V1</td>\n",
              "      <td>0</td>\n",
              "      <td>0.0</td>\n",
              "    </tr>\n",
              "    <tr>\n",
              "      <th>2</th>\n",
              "      <td>V2</td>\n",
              "      <td>0</td>\n",
              "      <td>0.0</td>\n",
              "    </tr>\n",
              "    <tr>\n",
              "      <th>3</th>\n",
              "      <td>V3</td>\n",
              "      <td>0</td>\n",
              "      <td>0.0</td>\n",
              "    </tr>\n",
              "    <tr>\n",
              "      <th>4</th>\n",
              "      <td>V4</td>\n",
              "      <td>0</td>\n",
              "      <td>0.0</td>\n",
              "    </tr>\n",
              "    <tr>\n",
              "      <th>5</th>\n",
              "      <td>V5</td>\n",
              "      <td>0</td>\n",
              "      <td>0.0</td>\n",
              "    </tr>\n",
              "    <tr>\n",
              "      <th>6</th>\n",
              "      <td>V6</td>\n",
              "      <td>0</td>\n",
              "      <td>0.0</td>\n",
              "    </tr>\n",
              "    <tr>\n",
              "      <th>7</th>\n",
              "      <td>V7</td>\n",
              "      <td>0</td>\n",
              "      <td>0.0</td>\n",
              "    </tr>\n",
              "    <tr>\n",
              "      <th>8</th>\n",
              "      <td>V8</td>\n",
              "      <td>0</td>\n",
              "      <td>0.0</td>\n",
              "    </tr>\n",
              "    <tr>\n",
              "      <th>9</th>\n",
              "      <td>V9</td>\n",
              "      <td>0</td>\n",
              "      <td>0.0</td>\n",
              "    </tr>\n",
              "    <tr>\n",
              "      <th>10</th>\n",
              "      <td>V10</td>\n",
              "      <td>0</td>\n",
              "      <td>0.0</td>\n",
              "    </tr>\n",
              "    <tr>\n",
              "      <th>11</th>\n",
              "      <td>V11</td>\n",
              "      <td>0</td>\n",
              "      <td>0.0</td>\n",
              "    </tr>\n",
              "    <tr>\n",
              "      <th>12</th>\n",
              "      <td>V12</td>\n",
              "      <td>0</td>\n",
              "      <td>0.0</td>\n",
              "    </tr>\n",
              "    <tr>\n",
              "      <th>13</th>\n",
              "      <td>V13</td>\n",
              "      <td>0</td>\n",
              "      <td>0.0</td>\n",
              "    </tr>\n",
              "    <tr>\n",
              "      <th>14</th>\n",
              "      <td>V14</td>\n",
              "      <td>0</td>\n",
              "      <td>0.0</td>\n",
              "    </tr>\n",
              "    <tr>\n",
              "      <th>15</th>\n",
              "      <td>V15</td>\n",
              "      <td>0</td>\n",
              "      <td>0.0</td>\n",
              "    </tr>\n",
              "    <tr>\n",
              "      <th>16</th>\n",
              "      <td>V16</td>\n",
              "      <td>0</td>\n",
              "      <td>0.0</td>\n",
              "    </tr>\n",
              "    <tr>\n",
              "      <th>17</th>\n",
              "      <td>V17</td>\n",
              "      <td>0</td>\n",
              "      <td>0.0</td>\n",
              "    </tr>\n",
              "    <tr>\n",
              "      <th>18</th>\n",
              "      <td>V18</td>\n",
              "      <td>0</td>\n",
              "      <td>0.0</td>\n",
              "    </tr>\n",
              "    <tr>\n",
              "      <th>19</th>\n",
              "      <td>V19</td>\n",
              "      <td>0</td>\n",
              "      <td>0.0</td>\n",
              "    </tr>\n",
              "    <tr>\n",
              "      <th>20</th>\n",
              "      <td>V20</td>\n",
              "      <td>0</td>\n",
              "      <td>0.0</td>\n",
              "    </tr>\n",
              "    <tr>\n",
              "      <th>21</th>\n",
              "      <td>V21</td>\n",
              "      <td>0</td>\n",
              "      <td>0.0</td>\n",
              "    </tr>\n",
              "    <tr>\n",
              "      <th>22</th>\n",
              "      <td>V22</td>\n",
              "      <td>0</td>\n",
              "      <td>0.0</td>\n",
              "    </tr>\n",
              "    <tr>\n",
              "      <th>23</th>\n",
              "      <td>V23</td>\n",
              "      <td>0</td>\n",
              "      <td>0.0</td>\n",
              "    </tr>\n",
              "    <tr>\n",
              "      <th>24</th>\n",
              "      <td>V24</td>\n",
              "      <td>0</td>\n",
              "      <td>0.0</td>\n",
              "    </tr>\n",
              "    <tr>\n",
              "      <th>25</th>\n",
              "      <td>V25</td>\n",
              "      <td>0</td>\n",
              "      <td>0.0</td>\n",
              "    </tr>\n",
              "    <tr>\n",
              "      <th>26</th>\n",
              "      <td>V26</td>\n",
              "      <td>0</td>\n",
              "      <td>0.0</td>\n",
              "    </tr>\n",
              "    <tr>\n",
              "      <th>27</th>\n",
              "      <td>V27</td>\n",
              "      <td>0</td>\n",
              "      <td>0.0</td>\n",
              "    </tr>\n",
              "    <tr>\n",
              "      <th>28</th>\n",
              "      <td>V28</td>\n",
              "      <td>0</td>\n",
              "      <td>0.0</td>\n",
              "    </tr>\n",
              "    <tr>\n",
              "      <th>29</th>\n",
              "      <td>Amount</td>\n",
              "      <td>0</td>\n",
              "      <td>0.0</td>\n",
              "    </tr>\n",
              "    <tr>\n",
              "      <th>30</th>\n",
              "      <td>Class</td>\n",
              "      <td>0</td>\n",
              "      <td>0.0</td>\n",
              "    </tr>\n",
              "  </tbody>\n",
              "</table>\n",
              "</div>\n",
              "      <button class=\"colab-df-convert\" onclick=\"convertToInteractive('df-af77b153-d69a-4de4-87c3-8d4cc5790374')\"\n",
              "              title=\"Convert this dataframe to an interactive table.\"\n",
              "              style=\"display:none;\">\n",
              "        \n",
              "  <svg xmlns=\"http://www.w3.org/2000/svg\" height=\"24px\"viewBox=\"0 0 24 24\"\n",
              "       width=\"24px\">\n",
              "    <path d=\"M0 0h24v24H0V0z\" fill=\"none\"/>\n",
              "    <path d=\"M18.56 5.44l.94 2.06.94-2.06 2.06-.94-2.06-.94-.94-2.06-.94 2.06-2.06.94zm-11 1L8.5 8.5l.94-2.06 2.06-.94-2.06-.94L8.5 2.5l-.94 2.06-2.06.94zm10 10l.94 2.06.94-2.06 2.06-.94-2.06-.94-.94-2.06-.94 2.06-2.06.94z\"/><path d=\"M17.41 7.96l-1.37-1.37c-.4-.4-.92-.59-1.43-.59-.52 0-1.04.2-1.43.59L10.3 9.45l-7.72 7.72c-.78.78-.78 2.05 0 2.83L4 21.41c.39.39.9.59 1.41.59.51 0 1.02-.2 1.41-.59l7.78-7.78 2.81-2.81c.8-.78.8-2.07 0-2.86zM5.41 20L4 18.59l7.72-7.72 1.47 1.35L5.41 20z\"/>\n",
              "  </svg>\n",
              "      </button>\n",
              "      \n",
              "  <style>\n",
              "    .colab-df-container {\n",
              "      display:flex;\n",
              "      flex-wrap:wrap;\n",
              "      gap: 12px;\n",
              "    }\n",
              "\n",
              "    .colab-df-convert {\n",
              "      background-color: #E8F0FE;\n",
              "      border: none;\n",
              "      border-radius: 50%;\n",
              "      cursor: pointer;\n",
              "      display: none;\n",
              "      fill: #1967D2;\n",
              "      height: 32px;\n",
              "      padding: 0 0 0 0;\n",
              "      width: 32px;\n",
              "    }\n",
              "\n",
              "    .colab-df-convert:hover {\n",
              "      background-color: #E2EBFA;\n",
              "      box-shadow: 0px 1px 2px rgba(60, 64, 67, 0.3), 0px 1px 3px 1px rgba(60, 64, 67, 0.15);\n",
              "      fill: #174EA6;\n",
              "    }\n",
              "\n",
              "    [theme=dark] .colab-df-convert {\n",
              "      background-color: #3B4455;\n",
              "      fill: #D2E3FC;\n",
              "    }\n",
              "\n",
              "    [theme=dark] .colab-df-convert:hover {\n",
              "      background-color: #434B5C;\n",
              "      box-shadow: 0px 1px 3px 1px rgba(0, 0, 0, 0.15);\n",
              "      filter: drop-shadow(0px 1px 2px rgba(0, 0, 0, 0.3));\n",
              "      fill: #FFFFFF;\n",
              "    }\n",
              "  </style>\n",
              "\n",
              "      <script>\n",
              "        const buttonEl =\n",
              "          document.querySelector('#df-af77b153-d69a-4de4-87c3-8d4cc5790374 button.colab-df-convert');\n",
              "        buttonEl.style.display =\n",
              "          google.colab.kernel.accessAllowed ? 'block' : 'none';\n",
              "\n",
              "        async function convertToInteractive(key) {\n",
              "          const element = document.querySelector('#df-af77b153-d69a-4de4-87c3-8d4cc5790374');\n",
              "          const dataTable =\n",
              "            await google.colab.kernel.invokeFunction('convertToInteractive',\n",
              "                                                     [key], {});\n",
              "          if (!dataTable) return;\n",
              "\n",
              "          const docLinkHtml = 'Like what you see? Visit the ' +\n",
              "            '<a target=\"_blank\" href=https://colab.research.google.com/notebooks/data_table.ipynb>data table notebook</a>'\n",
              "            + ' to learn more about interactive tables.';\n",
              "          element.innerHTML = '';\n",
              "          dataTable['output_type'] = 'display_data';\n",
              "          await google.colab.output.renderOutput(dataTable, element);\n",
              "          const docLink = document.createElement('div');\n",
              "          docLink.innerHTML = docLinkHtml;\n",
              "          element.appendChild(docLink);\n",
              "        }\n",
              "      </script>\n",
              "    </div>\n",
              "  </div>\n",
              "  "
            ]
          },
          "metadata": {},
          "execution_count": 71
        }
      ]
    },
    {
      "cell_type": "code",
      "source": [
        "crecard_df['Class'].tail(10)"
      ],
      "metadata": {
        "colab": {
          "base_uri": "https://localhost:8080/"
        },
        "id": "1zh_DKgZQquU",
        "outputId": "061542b0-131b-4b7a-932c-5f324f8c77d7"
      },
      "execution_count": 73,
      "outputs": [
        {
          "output_type": "execute_result",
          "data": {
            "text/plain": [
              "284797    0\n",
              "284798    0\n",
              "284799    0\n",
              "284800    0\n",
              "284801    0\n",
              "284802    0\n",
              "284803    0\n",
              "284804    0\n",
              "284805    0\n",
              "284806    0\n",
              "Name: Class, dtype: int64"
            ]
          },
          "metadata": {},
          "execution_count": 73
        }
      ]
    },
    {
      "cell_type": "markdown",
      "source": [
        "### Checking fraud percentage\n",
        "Here, we will explore the total fraud transaction done in our dataset and those which are not fraudulent in percentages."
      ],
      "metadata": {
        "id": "b_MnBtRTRpOo"
      }
    },
    {
      "cell_type": "code",
      "source": [
        "non_fraud_count = 0\n",
        "non_fraud = crecard_df['Class']\n",
        "for i in range(len(non_fraud)):\n",
        "  if non_fraud[i]==0:\n",
        "    non_fraud_count = non_fraud_count + 1\n",
        "\n",
        "non_fraud_count"
      ],
      "metadata": {
        "colab": {
          "base_uri": "https://localhost:8080/"
        },
        "id": "g2ZueOi0UDsI",
        "outputId": "badeb84e-d27f-47c8-d3e8-dfb3ceda2a05"
      },
      "execution_count": 79,
      "outputs": [
        {
          "output_type": "execute_result",
          "data": {
            "text/plain": [
              "284315"
            ]
          },
          "metadata": {},
          "execution_count": 79
        }
      ]
    },
    {
      "cell_type": "markdown",
      "source": [
        "A total of **284315 transacion** were not fraudulent. Now let us calculate the non-fraudulent percentages. Thus, the total out of 100 which were not fraudulent. "
      ],
      "metadata": {
        "id": "fzso4_pxVYDm"
      }
    },
    {
      "cell_type": "code",
      "source": [
        "non_fraud_percent = (non_fraud_count/len(non_fraud)) * 100\n",
        "print(f\"The percentage of total transactions not fraud: {non_fraud_percent}\")"
      ],
      "metadata": {
        "colab": {
          "base_uri": "https://localhost:8080/"
        },
        "id": "SzblFiViVp76",
        "outputId": "2930b00b-c899-4083-93db-844e802d4d20"
      },
      "execution_count": 81,
      "outputs": [
        {
          "output_type": "stream",
          "name": "stdout",
          "text": [
            "The percentage of total transactions not fraud: 99.82725143693798\n"
          ]
        }
      ]
    },
    {
      "cell_type": "markdown",
      "source": [],
      "metadata": {
        "id": "lvCstk0uYlb2"
      }
    },
    {
      "cell_type": "code",
      "source": [],
      "metadata": {
        "id": "nBumkiDaYk6j"
      },
      "execution_count": null,
      "outputs": []
    }
  ],
  "metadata": {
    "colab": {
      "provenance": [],
      "authorship_tag": "ABX9TyMfOh6S/tl8MWZTWK/L+qkv",
      "include_colab_link": true
    },
    "kernelspec": {
      "display_name": "Python 3",
      "name": "python3"
    },
    "language_info": {
      "name": "python"
    }
  },
  "nbformat": 4,
  "nbformat_minor": 0
}